{
  "cells": [
    {
      "cell_type": "code",
      "execution_count": 7,
      "metadata": {
        "id": "-A2hpgmR8hvE"
      },
      "outputs": [],
      "source": [
        "#Import the necessary libraries\n",
        "import numpy as np\n",
        "from scipy.io import loadmat\n",
        "import matplotlib.pyplot as plt\n",
        "import math"
      ]
    },
    {
      "cell_type": "code",
      "execution_count": 8,
      "metadata": {
        "colab": {
          "base_uri": "https://localhost:8080/"
        },
        "id": "sXP29oky-9wY",
        "outputId": "3027a43a-ec8b-4066-8dfe-c62d062b28a8"
      },
      "outputs": [
        {
          "output_type": "stream",
          "name": "stdout",
          "text": [
            "Drive already mounted at /gdrive; to attempt to forcibly remount, call drive.mount(\"/gdrive\", force_remount=True).\n",
            "/gdrive/MyDrive/Colab Notebooks\n"
          ]
        }
      ],
      "source": [
        "#For running it on Google Colab\n",
        "from google.colab import drive\n",
        "drive.mount('/gdrive')\n",
        "%cd /gdrive/MyDrive/Colab\\ Notebooks"
      ]
    },
    {
      "cell_type": "code",
      "execution_count": 9,
      "metadata": {
        "id": "s3_EeYUz82Hr"
      },
      "outputs": [],
      "source": [
        "#Loading the data\n",
        "M = loadmat('MNIST_digit_data.mat')\n",
        "images_train,images_test,labels_train,labels_test= M['images_train'],M['images_test'],M['labels_train'],M['labels_test']"
      ]
    },
    {
      "cell_type": "code",
      "execution_count": 10,
      "metadata": {
        "id": "o1HjGtIv86ds"
      },
      "outputs": [],
      "source": [
        "#just to make all random sequences on all computers the same.\n",
        "np.random.seed(1)"
      ]
    },
    {
      "cell_type": "code",
      "execution_count": 11,
      "metadata": {
        "colab": {
          "base_uri": "https://localhost:8080/"
        },
        "id": "z8UfCf2wBdGg",
        "outputId": "92f64f92-5c28-440a-da80-90334ec78d9e"
      },
      "outputs": [
        {
          "output_type": "stream",
          "name": "stdout",
          "text": [
            "{'__header__': b'MATLAB 5.0 MAT-file, Platform: MACI64, Created on: Sun Sep 13 17:50:05 2015', '__version__': '1.0', '__globals__': [], 'images_train': array([[0., 0., 0., ..., 0., 0., 0.],\n",
            "       [0., 0., 0., ..., 0., 0., 0.],\n",
            "       [0., 0., 0., ..., 0., 0., 0.],\n",
            "       ...,\n",
            "       [0., 0., 0., ..., 0., 0., 0.],\n",
            "       [0., 0., 0., ..., 0., 0., 0.],\n",
            "       [0., 0., 0., ..., 0., 0., 0.]]), 'labels_train': array([[1],\n",
            "       [3],\n",
            "       [7],\n",
            "       ...,\n",
            "       [1],\n",
            "       [6],\n",
            "       [2]], dtype=uint8), 'images_test': array([[0., 0., 0., ..., 0., 0., 0.],\n",
            "       [0., 0., 0., ..., 0., 0., 0.],\n",
            "       [0., 0., 0., ..., 0., 0., 0.],\n",
            "       ...,\n",
            "       [0., 0., 0., ..., 0., 0., 0.],\n",
            "       [0., 0., 0., ..., 0., 0., 0.],\n",
            "       [0., 0., 0., ..., 0., 0., 0.]]), 'labels_test': array([[8],\n",
            "       [6],\n",
            "       [5],\n",
            "       ...,\n",
            "       [0],\n",
            "       [8],\n",
            "       [5]], dtype=uint8)}\n"
          ]
        }
      ],
      "source": [
        "#Checking the dataset\n",
        "print(M)"
      ]
    },
    {
      "cell_type": "code",
      "execution_count": 12,
      "metadata": {
        "id": "GWRIiu-u885k"
      },
      "outputs": [],
      "source": [
        "#randomly permute train data points\n",
        "inds = np.random.permutation(images_train.shape[0])\n",
        "images_train = images_train[inds]\n",
        "labels_train = labels_train[inds]"
      ]
    },
    {
      "cell_type": "code",
      "execution_count": 13,
      "metadata": {
        "id": "JxM22uiP8_c5"
      },
      "outputs": [],
      "source": [
        "#randomly permute test data points\n",
        "inds = np.random.permutation(images_test.shape[0])\n",
        "images_test = images_test[inds]\n",
        "labels_test = labels_test[inds]"
      ]
    },
    {
      "cell_type": "code",
      "execution_count": 14,
      "metadata": {
        "colab": {
          "base_uri": "https://localhost:8080/",
          "height": 281
        },
        "id": "UswaFUiy9GSD",
        "outputId": "d3727d8a-0fe6-4098-9ea1-b6f1bd879cd1"
      },
      "outputs": [
        {
          "output_type": "display_data",
          "data": {
            "text/plain": [
              "<Figure size 432x288 with 1 Axes>"
            ],
            "image/png": "[encoded data removed]"
          },
          "metadata": {
            "needs_background": "light"
          }
        }
      ],
      "source": [
        "#to visualize the 10'th train image\n",
        "i=10\n",
        "im = images_train[i,:].reshape((28,28),order='F')\n",
        "plt.imshow(im)\n",
        "plt.title('Class Label:'+str(labels_train[i][0]))\n",
        "plt.show()"
      ]
    },
    {
      "cell_type": "code",
      "execution_count": 15,
      "metadata": {
        "id": "PwGvuWNqLqAm"
      },
      "outputs": [],
      "source": [
        "'''\n",
        "Function that implements kNN algorithm for the task of predicting the class for a given test image\n",
        "'''\n",
        "def kNN(images_train, labels_train, images_test, labels_test, k):\n",
        "\n",
        "  per_class_overall_pred = {0:0, 1:0, 2:0, 3:0, 4:0, 5:0, 6:0, 7:0, 8:0, 9:0}\n",
        "  per_class_num_correct_pred = {0:0, 1:0, 2:0, 3:0, 4:0, 5:0, 6:0, 7:0, 8:0, 9:0}\n",
        "\n",
        "  #Iterate over each test image\n",
        "  for i in range(len(images_test)):\n",
        "    #Calculate the Euclidean distance between the test image under consideration and all train images\n",
        "    cal_distances = np.array([euclidean_distance(images_test[i], img_train) for img_train in images_train])\n",
        "    #Sort the calculated distances\n",
        "    sorted_cal_distance_idx = cal_distances.argsort()\n",
        "\n",
        "    #To find k nearest neighbors' labels\n",
        "    neighbor_labels = []\n",
        "    for m in range(k):\n",
        "      neighbor_labels.append(labels_train[sorted_cal_distance_idx[m]][0])\n",
        "\n",
        "    #To predict the class of test image under consideration using majority voting\n",
        "    pred_class = max(neighbor_labels, key = neighbor_labels.count)\n",
        "    actual_class = labels_test[i][0]\n",
        "\n",
        "    if pred_class == actual_class:\n",
        "      #Increment the number of correct predictions for each class\n",
        "      per_class_num_correct_pred[actual_class] += 1\n",
        "    \n",
        "    #Increment the total number of predictions for each class\n",
        "    per_class_overall_pred[actual_class] += 1\n",
        "\n",
        "  #Calculate per class accuracy\n",
        "  acc = [0] * 10\n",
        "  for key in per_class_overall_pred.keys():\n",
        "    acc[key] = (per_class_num_correct_pred[key]/per_class_overall_pred[key]) * 100\n",
        "  #Calculate average accuracy\n",
        "  acc_av = (sum(per_class_num_correct_pred.values())/len(images_test)) * 100\n",
        "  \n",
        "  return acc, acc_av"
      ]
    },
    {
      "cell_type": "code",
      "execution_count": 16,
      "metadata": {
        "id": "fZhKkZJcOkgz"
      },
      "outputs": [],
      "source": [
        "'''\n",
        "Function to find Euclidean distance between two data points\n",
        "'''\n",
        "def euclidean_distance(data_point1, data_point2):\n",
        "  return np.sqrt(np.sum(np.square(data_point2 - data_point1)))"
      ]
    },
    {
      "cell_type": "code",
      "execution_count": 17,
      "metadata": {
        "id": "4Tnzk2tzTk66"
      },
      "outputs": [],
      "source": [
        "#To always consider only the first 1000 training images\n",
        "images_test = images_test[0:1000,:]\n",
        "labels_test = labels_test[0:1000,:]"
      ]
    },
    {
      "cell_type": "code",
      "execution_count": 18,
      "metadata": {
        "colab": {
          "base_uri": "https://localhost:8080/"
        },
        "id": "0s6BN8xC5Ews",
        "outputId": "52ec5c5d-9597-488d-cbda-eb6d17325958"
      },
      "outputs": [
        {
          "output_type": "stream",
          "name": "stdout",
          "text": [
            "Per class accuracy = [98.05825242718447, 100.0, 79.7979797979798, 86.08695652173914, 79.3103448275862, 67.02127659574468, 93.02325581395348, 87.93103448275862, 76.28865979381443, 82.35294117647058]\n",
            "Avergae accuracy = 85.2\n"
          ]
        }
      ],
      "source": [
        "#Checking the implemented knn function for 500 train images, 1000 test images, and k=5\n",
        "acc, acc_av = kNN(images_train[0:500,:], labels_train[0:500,:], images_test, labels_test, 5)\n",
        "print(\"Per class accuracy = \"+str(acc))\n",
        "print(\"Avergae accuracy = \"+str(acc_av))"
      ]
    },
    {
      "cell_type": "code",
      "execution_count": 19,
      "metadata": {
        "colab": {
          "base_uri": "https://localhost:8080/",
          "height": 600
        },
        "id": "oSmblxrL4xzP",
        "outputId": "f61ed3de-a9d1-402c-8855-047bc53f9209"
      },
      "outputs": [
        {
          "output_type": "stream",
          "name": "stdout",
          "text": [
            "Calculating accuracies for k=1 ...\n",
            "Calculating accuracies for k=2 ...\n",
            "Calculating accuracies for k=3 ...\n",
            "Calculating accuracies for k=5 ...\n",
            "Calculating accuracies for k=10 ...\n"
          ]
        },
        {
          "output_type": "display_data",
          "data": {
            "text/plain": [
              "<Figure size 720x576 with 1 Axes>"
            ],
            "image/png": "[encoded data removed]"
          },
          "metadata": {
            "needs_background": "light"
          }
        }
      ],
      "source": [
        "#Extracting 10 differnt data sizes in the range of [30-10000]\n",
        "train_data_size = np.logspace(1.48, 4, num=10, dtype=int)\n",
        "\n",
        "plt.figure(figsize=(10, 8))\n",
        "\n",
        "#Iterating over different values of k\n",
        "for k in [1,2,3,5,10]:\n",
        "  print(\"Calculating accuracies for k=\"+str(k)+\" ...\")\n",
        "  acc_av_train_data_size = [] \n",
        "  \n",
        "  #Iterating over 10 differnt data sizes and calculating the accuracy\n",
        "  for i in train_data_size:\n",
        "    acc, acc_av = kNN(images_train[0:i,:], labels_train[0:i,:], images_test, labels_test, k)\n",
        "    acc_av_train_data_size.append(acc_av)\n",
        "  plt.plot(train_data_size, acc_av_train_data_size, label='$k = {k}$'.format(k=k))\n",
        "\n",
        "plt.legend()\n",
        "plt.xlabel(\"Training data size\")\n",
        "plt.ylabel(\"Average accuracy\")\n",
        "plt.title(\"Average accuracy vs Train data size for k=[1,2,3,5,10]\")\n",
        "plt.show()"
      ]
    }
  ],
  "metadata": {
    "accelerator": "GPU",
    "colab": {
      "provenance": []
    },
    "kernelspec": {
      "display_name": "Python 3",
      "name": "python3"
    },
    "language_info": {
      "name": "python"
    }
  },
  "nbformat": 4,
  "nbformat_minor": 0
}